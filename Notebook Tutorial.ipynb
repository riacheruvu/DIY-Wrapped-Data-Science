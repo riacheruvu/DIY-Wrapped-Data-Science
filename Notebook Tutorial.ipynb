{
  "nbformat": 4,
  "nbformat_minor": 0,
  "metadata": {
    "colab": {
      "provenance": []
    },
    "kernelspec": {
      "name": "python3",
      "display_name": "Python 3"
    },
    "language_info": {
      "name": "python"
    }
  },
  "cells": [
    {
      "cell_type": "markdown",
      "source": [
        "## Welcome to a DIY Wrapped Project!\n",
        "\n",
        "This notebook is your playground for building a personalized \"Wrapped\" campaign, just like Spotify Wrapped, but with your own data twist! Whether you’re into gaming, reading, or coding, this short tutorial will show you how to make it yours.\n",
        "\n",
        "This started as a small personal project to explore building simple wrapped campaigns in Python, and I realized it might make for an interesting starter project.\n",
        "\n",
        "- **Two Ways to Explore**:\n",
        "  1. Run this notebook step-by-step (great for learning!).\n",
        "  2. Use the Python file for a standalone app (faster if you’re ready to roll).\n",
        "- **What’s Ahead**: We’ll generate personal data, create an interactive app, and add some AI capabilities—all in Python."
      ],
      "metadata": {
        "id": "12p7poD04ERT"
      }
    },
    {
      "cell_type": "markdown",
      "source": [
        "## Phase 1 Prep: Setting Up the Tools\n",
        "\n",
        "Before we dive into the fun stuff, we need to grab Dash—a super cool Python library for building interactive web apps.\n",
        "\n",
        "- **`!pip install dash`**: This command uses `pip` (Python’s package installer) to download Dash. The `!` runs it as a shell command in Jupyter.\n",
        "- **Why We Need It**: Dash powers our interactive visuals in Phase 2. No Dash, no flipping through cool charts!\n",
        "- **Good to Know**: On Google Colab, we run this every time to ensure Dash is fresh. Locally, you might only install it once."
      ],
      "metadata": {
        "id": "A2kAp8m65cSa"
      }
    },
    {
      "cell_type": "code",
      "source": [
        "!pip install dash"
      ],
      "metadata": {
        "colab": {
          "base_uri": "https://localhost:8080/"
        },
        "collapsed": true,
        "id": "nFwGl8Hy1KuI",
        "outputId": "2a1f353b-9dd6-4db2-9fbe-2c757d1df4f3"
      },
      "execution_count": 3,
      "outputs": [
        {
          "output_type": "stream",
          "name": "stdout",
          "text": [
            "Collecting dash\n",
            "  Downloading dash-3.0.1-py3-none-any.whl.metadata (10 kB)\n",
            "Collecting Flask<3.1,>=1.0.4 (from dash)\n",
            "  Downloading flask-3.0.3-py3-none-any.whl.metadata (3.2 kB)\n",
            "Collecting Werkzeug<3.1 (from dash)\n",
            "  Downloading werkzeug-3.0.6-py3-none-any.whl.metadata (3.7 kB)\n",
            "Requirement already satisfied: plotly>=5.0.0 in /usr/local/lib/python3.11/dist-packages (from dash) (5.24.1)\n",
            "Requirement already satisfied: importlib-metadata in /usr/local/lib/python3.11/dist-packages (from dash) (8.6.1)\n",
            "Requirement already satisfied: typing-extensions>=4.1.1 in /usr/local/lib/python3.11/dist-packages (from dash) (4.12.2)\n",
            "Requirement already satisfied: requests in /usr/local/lib/python3.11/dist-packages (from dash) (2.32.3)\n",
            "Collecting retrying (from dash)\n",
            "  Downloading retrying-1.3.4-py3-none-any.whl.metadata (6.9 kB)\n",
            "Requirement already satisfied: nest-asyncio in /usr/local/lib/python3.11/dist-packages (from dash) (1.6.0)\n",
            "Requirement already satisfied: setuptools in /usr/local/lib/python3.11/dist-packages (from dash) (75.1.0)\n",
            "Requirement already satisfied: Jinja2>=3.1.2 in /usr/local/lib/python3.11/dist-packages (from Flask<3.1,>=1.0.4->dash) (3.1.6)\n",
            "Requirement already satisfied: itsdangerous>=2.1.2 in /usr/local/lib/python3.11/dist-packages (from Flask<3.1,>=1.0.4->dash) (2.2.0)\n",
            "Requirement already satisfied: click>=8.1.3 in /usr/local/lib/python3.11/dist-packages (from Flask<3.1,>=1.0.4->dash) (8.1.8)\n",
            "Requirement already satisfied: blinker>=1.6.2 in /usr/local/lib/python3.11/dist-packages (from Flask<3.1,>=1.0.4->dash) (1.9.0)\n",
            "Requirement already satisfied: tenacity>=6.2.0 in /usr/local/lib/python3.11/dist-packages (from plotly>=5.0.0->dash) (9.0.0)\n",
            "Requirement already satisfied: packaging in /usr/local/lib/python3.11/dist-packages (from plotly>=5.0.0->dash) (24.2)\n",
            "Requirement already satisfied: MarkupSafe>=2.1.1 in /usr/local/lib/python3.11/dist-packages (from Werkzeug<3.1->dash) (3.0.2)\n",
            "Requirement already satisfied: zipp>=3.20 in /usr/local/lib/python3.11/dist-packages (from importlib-metadata->dash) (3.21.0)\n",
            "Requirement already satisfied: charset-normalizer<4,>=2 in /usr/local/lib/python3.11/dist-packages (from requests->dash) (3.4.1)\n",
            "Requirement already satisfied: idna<4,>=2.5 in /usr/local/lib/python3.11/dist-packages (from requests->dash) (3.10)\n",
            "Requirement already satisfied: urllib3<3,>=1.21.1 in /usr/local/lib/python3.11/dist-packages (from requests->dash) (2.3.0)\n",
            "Requirement already satisfied: certifi>=2017.4.17 in /usr/local/lib/python3.11/dist-packages (from requests->dash) (2025.1.31)\n",
            "Requirement already satisfied: six>=1.7.0 in /usr/local/lib/python3.11/dist-packages (from retrying->dash) (1.17.0)\n",
            "Downloading dash-3.0.1-py3-none-any.whl (8.0 MB)\n",
            "\u001b[2K   \u001b[90m━━━━━━━━━━━━━━━━━━━━━━━━━━━━━━━━━━━━━━━━\u001b[0m \u001b[32m8.0/8.0 MB\u001b[0m \u001b[31m41.7 MB/s\u001b[0m eta \u001b[36m0:00:00\u001b[0m\n",
            "\u001b[?25hDownloading flask-3.0.3-py3-none-any.whl (101 kB)\n",
            "\u001b[2K   \u001b[90m━━━━━━━━━━━━━━━━━━━━━━━━━━━━━━━━━━━━━━━━\u001b[0m \u001b[32m101.7/101.7 kB\u001b[0m \u001b[31m8.3 MB/s\u001b[0m eta \u001b[36m0:00:00\u001b[0m\n",
            "\u001b[?25hDownloading werkzeug-3.0.6-py3-none-any.whl (227 kB)\n",
            "\u001b[2K   \u001b[90m━━━━━━━━━━━━━━━━━━━━━━━━━━━━━━━━━━━━━━━━\u001b[0m \u001b[32m228.0/228.0 kB\u001b[0m \u001b[31m17.8 MB/s\u001b[0m eta \u001b[36m0:00:00\u001b[0m\n",
            "\u001b[?25hDownloading retrying-1.3.4-py3-none-any.whl (11 kB)\n",
            "Installing collected packages: Werkzeug, retrying, Flask, dash\n",
            "  Attempting uninstall: Werkzeug\n",
            "    Found existing installation: Werkzeug 3.1.3\n",
            "    Uninstalling Werkzeug-3.1.3:\n",
            "      Successfully uninstalled Werkzeug-3.1.3\n",
            "  Attempting uninstall: Flask\n",
            "    Found existing installation: Flask 3.1.0\n",
            "    Uninstalling Flask-3.1.0:\n",
            "      Successfully uninstalled Flask-3.1.0\n",
            "Successfully installed Flask-3.0.3 Werkzeug-3.0.6 dash-3.0.1 retrying-1.3.4\n"
          ]
        }
      ]
    },
    {
      "cell_type": "markdown",
      "source": [
        "## Phase 1: Crafting Your Personalized Data\n",
        "\n",
        "Here’s where it starts! We’ll create a small dataset tailored to you—your name, your favorite activity (like Coding or Gaming), and some fake stats over 5 years. This is the heart of your Wrapped story.\n",
        "\n",
        "- **Imports**: `numpy` (np) for math and random numbers, `pandas` (pd) for organizing data into tables.\n",
        "- **`generate_personalized_data`**:\n",
        "  - Takes your `name` and `category` as inputs.\n",
        "  - Uses `np.random.normal` to make fake activity data with a slight upward trend (`+ (years - 2018) * 0.5`)—like you’re getting better over time!\n",
        "  - Builds a table (DataFrame) with years, activity, category, and your name.\n",
        "- **How It Works**: You type your name and category, and we print + save the data to `personalized_data.csv`.\n",
        "- **Why It’s Cool**: This is your data—no one else has it! It’s the raw material for our Wrapped app."
      ],
      "metadata": {
        "id": "YRWIj7GF5fKj"
      }
    },
    {
      "cell_type": "code",
      "execution_count": 1,
      "metadata": {
        "colab": {
          "base_uri": "https://localhost:8080/"
        },
        "id": "2Vdc8Kxo1CAr",
        "outputId": "daf7ba49-4606-4a86-a46b-b8b4014d22b4"
      },
      "outputs": [
        {
          "output_type": "stream",
          "name": "stdout",
          "text": [
            "Enter your name: Star\n",
            "Enter a category (e.g., Gaming, Reading, Coding): Coding\n",
            "\n",
            "Here’s your personalized data for Coding, Star!\n",
            "   Year   Activity Category  User\n",
            "0  2018  10.993428   Coding  Star\n",
            "1  2019  10.223471   Coding  Star\n",
            "2  2020  12.295377   Coding  Star\n",
            "3  2021  14.546060   Coding  Star\n",
            "4  2022  11.531693   Coding  Star\n"
          ]
        }
      ],
      "source": [
        "import numpy as np\n",
        "import pandas as pd\n",
        "\n",
        "# Function to generate personalized data\n",
        "def generate_personalized_data(name, category):\n",
        "    np.random.seed(42)  # For reproducibility\n",
        "    years = np.arange(2018, 2023)  # 5 years of data\n",
        "    # Simulate activity with a slight upward trend + random noise\n",
        "    activity = np.random.normal(loc=10, scale=2, size=len(years)) + (years - 2018) * 0.5\n",
        "    # Create a DataFrame\n",
        "    df = pd.DataFrame({\n",
        "        'Year': years,\n",
        "        'Activity': activity,\n",
        "        'Category': [category] * len(years),\n",
        "        'User': [name] * len(years)\n",
        "    })\n",
        "    return df\n",
        "\n",
        "# Example usage\n",
        "name = input(\"Enter your name: \")\n",
        "category = input(\"Enter a category (e.g., Gaming, Reading, Coding): \")\n",
        "df_personalized = generate_personalized_data(name, category)\n",
        "print(f\"\\nHere’s your personalized data for {category}, {name}!\")\n",
        "print(df_personalized)\n",
        "\n",
        "# Save to CSV for later use\n",
        "df_personalized.to_csv(\"personalized_data.csv\", index=False)"
      ]
    },
    {
      "cell_type": "markdown",
      "source": [
        "## Phase 2 & 3: Interactive Wrapped + AI Magic\n",
        "\n",
        "Now we bring it all together! Phase 2 builds an interactive app to flip through your Wrapped story, and Phase 3 sprinkles in a smart AI insight.\n",
        "\n",
        "### Phase 2: The Interactive App\n",
        "- **Imports**: `dash` for the app, `plotly.express` (px) for charts, `pandas` to load your data.\n",
        "- **Data**: Loads `personalized_data.csv` and grabs your name and category.\n",
        "- **`steps` List**: Defines 4 steps—welcome text, bar chart, pie chart, and goodbye text—personalized with your info.\n",
        "- **Layout**:\n",
        "  - `dcc.Store` tracks which step you’re on (like a bookmark).\n",
        "  - `step-container` shows the current step; buttons let you flip forward/backward.\n",
        "- **Callback (`update_step`)**:\n",
        "  - Listens to \"Next\" and \"Previous\" clicks.\n",
        "  - Updates the step and shows either text or a plot (bar for trends, pie for highlights).\n",
        "- **Plots**: Made with Plotly—colorful, interactive, and tied to your data.\n",
        "\n",
        "### Phase 3: Adding AI Personalization\n",
        "- **`get_insight`**: A small function to identify your peak year and activity, and add a bit of personalization.\n",
        "- **New Step**: Adds this insight as a final text card—e.g., “Hey Star, your Coding peaked in 2021!”\n",
        "\n",
        "### Running It\n",
        "- `app.run(debug=True)` launches the app. On Colab, you’ll see a link; locally, visit `http://127.0.0.1:8050/`.\n",
        "- **Heads Up**: Run Phase 1 first to make the CSV, or this won’t work!"
      ],
      "metadata": {
        "id": "6G5gth595hgY"
      }
    },
    {
      "cell_type": "code",
      "source": [
        "import dash\n",
        "from dash import html, dcc, Input, Output, State, callback\n",
        "import plotly.express as px\n",
        "import pandas as pd\n",
        "\n",
        "# Load personalized data from Phase 1\n",
        "df = pd.read_csv(\"personalized_data.csv\")\n",
        "user_name = df['User'].iloc[0]  # Get user's name\n",
        "category = df['Category'].iloc[0]  # Get user's category\n",
        "\n",
        "app = dash.Dash(__name__)\n",
        "\n",
        "# Define the steps for the Wrapped campaign\n",
        "steps = [\n",
        "    {\n",
        "        'type': 'text',\n",
        "        'title': f'🔮 Welcome, {user_name}! 🔮',\n",
        "        'content': f'Here’s your {category} Wrapped for 2018-2022!'\n",
        "    },\n",
        "    {\n",
        "        'type': 'plot',\n",
        "        'title': f'Your {category} Trend',\n",
        "        'content': f'Check out how your {category} activity changed over time.'\n",
        "    },\n",
        "    {\n",
        "        'type': 'plot',\n",
        "        'title': 'Yearly Highlights',\n",
        "        'content': f'Here’s a pie chart of your {category} activity distribution.'\n",
        "    }\n",
        "]\n",
        "\n",
        "# Use a dcc.Store to persist the current step across callbacks (better than global variable)\n",
        "app.layout = html.Div(\n",
        "    style={\n",
        "        'display': 'flex', 'flex-direction': 'column', 'align-items': 'center',\n",
        "        'width': '500px', 'margin': '20px auto', 'font-family': 'Arial, sans-serif'\n",
        "    },\n",
        "    children=[\n",
        "        dcc.Store(id='step-store', data=0),  # Store current step\n",
        "        html.Div(id='step-container', children=[]),\n",
        "        html.Div(\n",
        "            style={'display': 'flex'},\n",
        "            children=[\n",
        "                html.Button(\"Previous\", id='prev-button', n_clicks=0,\n",
        "                            style={'margin-top': '20px', 'background-color': '#6c757d', 'color': 'white',\n",
        "                                   'border': 'none', 'padding': '10px 20px', 'border-radius': '5px', 'cursor': 'pointer', 'margin-right': '10px'}),\n",
        "                html.Button(\"Next\", id='next-button', n_clicks=0,\n",
        "                            style={'margin-top': '20px', 'background-color': '#007bff', 'color': 'white',\n",
        "                                   'border': 'none', 'padding': '10px 20px', 'border-radius': '5px', 'cursor': 'pointer'}),\n",
        "            ]\n",
        "        )\n",
        "    ]\n",
        ")\n",
        "\n",
        "@callback(\n",
        "    [Output('step-container', 'children'),\n",
        "     Output('step-store', 'data')],  # Update both the container and the stored step\n",
        "    [Input('next-button', 'n_clicks'),\n",
        "     Input('prev-button', 'n_clicks')],\n",
        "    [State('step-store', 'data')],  # Get current step from store\n",
        "    prevent_initial_call=True,  # Prevent callback on initial load\n",
        "    allow_duplicate=True  # Allow duplicate outputs\n",
        ")\n",
        "def update_step(next_clicks, prev_clicks, current_step):\n",
        "    ctx = dash.callback_context\n",
        "\n",
        "    # If no button clicked yet, start at step 0\n",
        "    if not ctx.triggered:\n",
        "        current_step = 0\n",
        "    else:\n",
        "        button_id = ctx.triggered[0]['prop_id'].split('.')[0]\n",
        "        if button_id == 'next-button' and current_step < len(steps) - 1:\n",
        "            current_step += 1\n",
        "        elif button_id == 'prev-button' and current_step > 0:\n",
        "            current_step -= 1\n",
        "\n",
        "    step = steps[current_step]\n",
        "\n",
        "    # Render text or plot based on step type\n",
        "    if step['type'] == 'text':\n",
        "        content = [\n",
        "            html.Div(\n",
        "                style={'padding': '20px', 'background-color': '#f8f8f8', 'border-radius': '8px',\n",
        "                       'box-shadow': '2px 2px 5px rgba(0,0,0,0.1)'},\n",
        "                children=[\n",
        "                    html.H2(step['title'], style={'color': '#333'}),\n",
        "                    html.P(step['content'], style={'font-size': '16px', 'color': '#555'})\n",
        "                ]\n",
        "            )\n",
        "        ]\n",
        "    elif step['type'] == 'plot':\n",
        "        if current_step == 1:  # Bar chart for trend\n",
        "            fig = px.bar(df, x='Year', y='Activity', title=step['title'],\n",
        "                         labels={'Activity': f'{category} Activity'},\n",
        "                         color='Activity', color_continuous_scale='Viridis')\n",
        "        else:  # Pie chart for distribution\n",
        "            fig = px.pie(df, names='Year', values='Activity', title=step['title'],\n",
        "                         color_discrete_sequence=px.colors.sequential.RdBu)\n",
        "\n",
        "        content = [\n",
        "            html.Div(\n",
        "                style={'width': '500px', 'text-align': 'center', 'margin': 'auto'},\n",
        "                children=[\n",
        "                    html.H3(step['content'], style={'color': '#333'}),\n",
        "                    dcc.Graph(figure=fig, style={'width': '100%', 'height': '400px'})\n",
        "                ]\n",
        "            )\n",
        "        ]\n",
        "\n",
        "    return content, current_step  # Return both the content and updated step\n",
        "import pandas as pd\n",
        "\n",
        "# Load the data\n",
        "df = pd.read_csv(\"personalized_data.csv\")\n",
        "user_name = df['User'].iloc[0]\n",
        "category = df['Category'].iloc[0]\n",
        "\n",
        "# Simulate a zero-shot LLM insight (in practice, you'd use an API like Hugging Face or xAI's API)\n",
        "def get_insight(df, category, user_name):\n",
        "    max_year = df.loc[df['Activity'].idxmax(), 'Year']\n",
        "    max_activity = df['Activity'].max()\n",
        "    insight = (\n",
        "        f\"Hey {user_name}, your {category} activity peaked in {int(max_year)} \"\n",
        "        f\"with a value of {max_activity:.1f}! Looks like that was your golden year—maybe you \"\n",
        "        f\"mastered {category} or just had a lot of fun. What do you think happened?\"\n",
        "    )\n",
        "    return insight\n",
        "\n",
        "# Generate a zero-shot LLM insight using a Hugging Face model\n",
        "def get_llm_insight(df, category, user_name):\n",
        "    max_year = df.loc[df['Activity'].idxmax(), 'Year']\n",
        "    max_activity = df['Activity'].max()\n",
        "    insight = (\n",
        "        f\"Hey {user_name}, your {category} activity peaked in {int(max_year)} \"\n",
        "        f\"with a value of {max_activity:.1f}! Looks like that was your golden year—maybe you \"\n",
        "        f\"mastered {category} or just had a lot of fun. What do you think happened?\"\n",
        "    )\n",
        "    return insight\n",
        "\n",
        "# Get the insight\n",
        "llm_insight = get_insight(df, category, user_name)\n",
        "\n",
        "# Add the insight to the Wrapped steps (append this to the `steps` list in Phase 2)\n",
        "new_step = {\n",
        "    'type': 'text',\n",
        "    'title': f'🔮 Magic Insight for {user_name} 🔮',\n",
        "    'content': llm_insight\n",
        "}\n",
        "steps.append(new_step)\n",
        "final_step =  {\n",
        "        'type': 'text',\n",
        "        'title': '🔮 That’s a Wrap! 🔮',\n",
        "        'content': f'Thanks for exploring your {category} journey, {user_name}!'\n",
        "    }\n",
        "steps.append(final_step)"
      ],
      "metadata": {
        "id": "u3aCOn0i1DQM"
      },
      "execution_count": 11,
      "outputs": []
    },
    {
      "cell_type": "code",
      "source": [
        "if __name__ == '__main__':\n",
        "    app.run(debug=True)"
      ],
      "metadata": {
        "colab": {
          "base_uri": "https://localhost:8080/",
          "height": 671
        },
        "id": "FV2ydaJN679x",
        "outputId": "58a76d01-76b9-4855-d62b-b8c9bf36c6ac"
      },
      "execution_count": 12,
      "outputs": [
        {
          "output_type": "display_data",
          "data": {
            "text/plain": [
              "<IPython.core.display.Javascript object>"
            ],
            "application/javascript": [
              "(async (port, path, width, height, cache, element) => {\n",
              "    if (!google.colab.kernel.accessAllowed && !cache) {\n",
              "      return;\n",
              "    }\n",
              "    element.appendChild(document.createTextNode(''));\n",
              "    const url = await google.colab.kernel.proxyPort(port, {cache});\n",
              "    const iframe = document.createElement('iframe');\n",
              "    iframe.src = new URL(path, url).toString();\n",
              "    iframe.height = height;\n",
              "    iframe.width = width;\n",
              "    iframe.style.border = 0;\n",
              "    iframe.allow = [\n",
              "        'accelerometer',\n",
              "        'autoplay',\n",
              "        'camera',\n",
              "        'clipboard-read',\n",
              "        'clipboard-write',\n",
              "        'gyroscope',\n",
              "        'magnetometer',\n",
              "        'microphone',\n",
              "        'serial',\n",
              "        'usb',\n",
              "        'xr-spatial-tracking',\n",
              "    ].join('; ');\n",
              "    element.appendChild(iframe);\n",
              "  })(8050, \"/\", \"100%\", 650, false, window.element)"
            ]
          },
          "metadata": {}
        }
      ]
    },
    {
      "cell_type": "markdown",
      "source": [
        "And that concludes our quick tutorial!"
      ],
      "metadata": {
        "id": "n7DjDvdp9Qsz"
      }
    }
  ]
}